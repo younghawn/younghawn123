{
  "nbformat": 4,
  "nbformat_minor": 0,
  "metadata": {
    "colab": {
      "private_outputs": true,
      "provenance": [],
      "gpuType": "T4",
      "include_colab_link": true
    },
    "kernelspec": {
      "name": "python3",
      "display_name": "Python 3"
    },
    "language_info": {
      "name": "python"
    },
    "accelerator": "GPU"
  },
  "cells": [
    {
      "cell_type": "markdown",
      "metadata": {
        "id": "view-in-github",
        "colab_type": "text"
      },
      "source": [
        "<a href=\"https://colab.research.google.com/github/younghawn/younghawn123/blob/main/Yolov5_AI_Specialist.hawn.ipynb\" target=\"_parent\"><img src=\"https://colab.research.google.com/assets/colab-badge.svg\" alt=\"Open In Colab\"/></a>"
      ]
    },
    {
      "cell_type": "markdown",
      "source": [
        "# Yolo5 학습하기\n",
        "##1. 구글 드라이브 연동"
      ],
      "metadata": {
        "id": "q2T_7RXuXMk3"
      }
    },
    {
      "cell_type": "code",
      "execution_count": null,
      "metadata": {
        "id": "Oo7miJCyXFcN"
      },
      "outputs": [],
      "source": [
        "# prompt: 구글 드라이브랑 연결\n",
        "\n",
        "from google.colab import drive\n",
        "drive.flush_and_unmount()  # 기존 마운트 해제\n",
        "drive.mount('/content/drive')  # 다시 마운트"
      ]
    },
    {
      "cell_type": "code",
      "source": [
        "%cd /content/drive/MyDrive"
      ],
      "metadata": {
        "id": "PXogUGVQb-X_"
      },
      "execution_count": null,
      "outputs": []
    },
    {
      "cell_type": "code",
      "source": [
        "%pwd"
      ],
      "metadata": {
        "id": "yBRVOaQbcBUH"
      },
      "execution_count": null,
      "outputs": []
    },
    {
      "cell_type": "markdown",
      "source": [
        "# 2. Yolov5 설치"
      ],
      "metadata": {
        "id": "uqMISq3pdMFc"
      }
    },
    {
      "cell_type": "code",
      "source": [
        "# 기존에 설치를 완료한 경우에는 해당 경로로 이동만 하면 됩니다.\n",
        "%cd /content/drive/MyDrive/yolov5"
      ],
      "metadata": {
        "id": "4mR68g8Nc2Vs"
      },
      "execution_count": null,
      "outputs": []
    },
    {
      "cell_type": "code",
      "source": [
        "##\n",
        "#clone YOLOv5 and\n",
        "!git clone https://github.com/ultralytics/yolov5  # clone repo\n",
        "%cd yolov5\n",
        "%pip install -qr requirements.txt # install dependencies"
      ],
      "metadata": {
        "id": "MeTRnP5Rdoc4"
      },
      "execution_count": null,
      "outputs": []
    },
    {
      "cell_type": "code",
      "source": [
        "!pip install Pillow==10.3"
      ],
      "metadata": {
        "id": "qKn7oHQOel_0"
      },
      "execution_count": null,
      "outputs": []
    },
    {
      "cell_type": "markdown",
      "source": [
        "#"
      ],
      "metadata": {
        "id": "V7hs6w4geYvo"
      }
    },
    {
      "cell_type": "markdown",
      "source": [
        "# 3. 이미지 파일 관리"
      ],
      "metadata": {
        "id": "kG6i06Mde7T4"
      }
    },
    {
      "cell_type": "code",
      "source": [
        "!mkdir -p Train/labels\n",
        "!mkdir -p Train/images\n",
        "!mkdir -p Val/labels\n",
        "!mkdir -p Val/images\n"
      ],
      "metadata": {
        "id": "9WJEL-gIdyW8"
      },
      "execution_count": null,
      "outputs": []
    },
    {
      "cell_type": "code",
      "source": [
        "##검증 데이터 만들기\n",
        "import os\n",
        "import shutil\n",
        "from sklearn.model_selection import train_test_split\n",
        "\n",
        "def create_validation_set(train_path, val_path, split_ratio=0.3):\n",
        "    \"\"\"\n",
        "    Train 데이터의 일부를 Val로 이동\n",
        "    \"\"\"\n",
        "    # 필요한 디렉토리 생성\n",
        "    os.makedirs(os.path.join(val_path, 'images'), exist_ok=True)\n",
        "    os.makedirs(os.path.join(val_path, 'labels'), exist_ok=True)\n",
        "\n",
        "    # Train 이미지 리스트 가져오기\n",
        "    train_images = os.listdir(os.path.join(train_path, 'images'))\n",
        "    train_images = [f for f in train_images if f.endswith(('.jpg', '.jpeg', '.png'))]\n",
        "\n",
        "    # Train/Val 분할\n",
        "    _, val_images = train_test_split(train_images,\n",
        "                                   test_size=split_ratio,\n",
        "                                   random_state=42)\n",
        "\n",
        "    # Val로 파일 복사\n",
        "    for image_file in val_images:\n",
        "        # 이미지 복사\n",
        "        src_image = os.path.join(train_path, 'images', image_file)\n",
        "        dst_image = os.path.join(val_path, 'images', image_file)\n",
        "        shutil.copy2(src_image, dst_image)\n",
        "\n",
        "        # 라벨 파일 복사\n",
        "        label_file = os.path.splitext(image_file)[0] + '.txt'\n",
        "        src_label = os.path.join(train_path, 'labels', label_file)\n",
        "        dst_label = os.path.join(val_path, 'labels', label_file)\n",
        "        if os.path.exists(src_label):\n",
        "            shutil.copy2(src_label, dst_label)\n",
        "\n",
        "    print(f\"Created validation set with {len(val_images)} images\")\n",
        "\n",
        "# 실행\n",
        "train_path = '/content/drive/MyDrive/yolov5/Train'\n",
        "val_path = '/content/drive/MyDrive/yolov5/Val'\n",
        "\n",
        "create_validation_set(train_path, val_path)"
      ],
      "metadata": {
        "id": "_Qqy-G0hKZqc"
      },
      "execution_count": null,
      "outputs": []
    },
    {
      "cell_type": "code",
      "source": [
        "def check_dataset():\n",
        "    train_path = '/content/drive/MyDrive/yolov5/Train'\n",
        "    val_path = '/content/drive/MyDrive/yolov5/Val'\n",
        "\n",
        "    # Train 데이터 확인\n",
        "    train_images = len(os.listdir(os.path.join(train_path, 'images')))\n",
        "    train_labels = len(os.listdir(os.path.join(train_path, 'labels')))\n",
        "\n",
        "    # Val 데이터 확인\n",
        "    val_images = len(os.listdir(os.path.join(val_path, 'images')))\n",
        "    val_labels = len(os.listdir(os.path.join(val_path, 'labels')))\n",
        "\n",
        "    print(\"Dataset status:\")\n",
        "    print(f\"Train - Images: {train_images}, Labels: {train_labels}\")\n",
        "    print(f\"Val - Images: {val_images}, Labels: {val_labels}\")\n",
        "\n",
        "# 데이터셋 상태 확인\n",
        "check_dataset()"
      ],
      "metadata": {
        "id": "UlUtCxWVKkNW"
      },
      "execution_count": null,
      "outputs": []
    },
    {
      "cell_type": "markdown",
      "source": [
        "# 4. 학습시작"
      ],
      "metadata": {
        "id": "TXUrmEC8fHUc"
      }
    },
    {
      "cell_type": "code",
      "source": [
        "#필요 라이브러리 임포트하기\n",
        "import torch\n",
        "import os\n",
        "from IPython.display import Image, clear_output  # to display images"
      ],
      "metadata": {
        "id": "RSPNJnbZfGg0"
      },
      "execution_count": null,
      "outputs": []
    },
    {
      "cell_type": "code",
      "source": [
        "%pwd"
      ],
      "metadata": {
        "id": "h0tBhp5tmBQp"
      },
      "execution_count": null,
      "outputs": []
    },
    {
      "cell_type": "code",
      "source": [
        "import numpy as np\n",
        "import tensorflow as tf\n",
        "import os\n",
        "from PIL import Image\n",
        "from tensorflow.python.eager.context import eager_mode\n",
        "\n",
        "def _preproc(image, output_height=512, output_width=512, resize_side=512):\n",
        "    ''' imagenet-standard: aspect-preserving resize to 256px smaller-side, then central-crop to 224px'''\n",
        "    with eager_mode():\n",
        "        h, w = image.shape[0], image.shape[1]\n",
        "        scale = tf.cond(tf.less(h, w), lambda: resize_side / h, lambda: resize_side / w)\n",
        "        resized_image = tf.compat.v1.image.resize_bilinear(tf.expand_dims(image, 0), [int(h*scale), int(w*scale)])\n",
        "        cropped_image = tf.compat.v1.image.resize_with_crop_or_pad(resized_image, output_height, output_width)\n",
        "        return tf.squeeze(cropped_image)\n",
        "\n",
        "def Create_npy(imagespath, imgsize, ext) :\n",
        "    images_list = [img_name for img_name in os.listdir(imagespath) if\n",
        "                os.path.splitext(img_name)[1].lower() == '.'+ext.lower()]\n",
        "    calib_dataset = np.zeros((len(images_list), imgsize, imgsize, 3), dtype=np.float32)\n",
        "\n",
        "    for idx, img_name in enumerate(sorted(images_list)):\n",
        "        img_path = os.path.join(imagespath, img_name)\n",
        "        try:\n",
        "            # 파일 크기가 정상적인지 확인\n",
        "            if os.path.getsize(img_path) == 0:\n",
        "                print(f\"Error: {img_path} is empty.\")\n",
        "                continue\n",
        "\n",
        "            img = Image.open(img_path)\n",
        "            img = img.convert(\"RGB\")  # RGBA 이미지 등 다른 형식이 있을 경우 강제로 RGB로 변환\n",
        "            img_np = np.array(img)\n",
        "\n",
        "            img_preproc = _preproc(img_np, imgsize, imgsize, imgsize)\n",
        "            calib_dataset[idx,:,:,:] = img_preproc.numpy().astype(np.uint8)\n",
        "            print(f\"Processed image {img_path}\")\n",
        "\n",
        "        except Exception as e:\n",
        "            print(f\"Error processing image {img_path}: {e}\")\n",
        "\n",
        "    np.save('calib_set.npy', calib_dataset)\n"
      ],
      "metadata": {
        "id": "ouHOctaZfRHj"
      },
      "execution_count": null,
      "outputs": []
    },
    {
      "cell_type": "code",
      "source": [
        "# \"cannot identify image file\" 에러가 발생하는 경우, PILLOW Version을 \"!pip install Pillow==10.1\" 로 변경하여 설치합니다.\n",
        "Create_npy('/content/drive/MyDrive/yolov5/Train/images', 512, 'jpg')"
      ],
      "metadata": {
        "id": "y_p0-k-TfUpY"
      },
      "execution_count": null,
      "outputs": []
    },
    {
      "cell_type": "code",
      "source": [
        "#모델 학습하기\n",
        "!python train.py  --img 512 --batch 16 --epochs 300 --data /content/drive/MyDrive/yolov5/data.yaml --weights yolov5n.pt --cache"
      ],
      "metadata": {
        "id": "Vs-AKm1YgA_r"
      },
      "execution_count": null,
      "outputs": []
    },
    {
      "cell_type": "markdown",
      "source": [
        "# 5. yolov5모델 학습 결과 검증"
      ],
      "metadata": {
        "id": "_d1vBu6LgHRb"
      }
    },
    {
      "cell_type": "code",
      "source": [
        "# Start tensorboard\n",
        "# Launch after you have started training\n",
        "# logs save in the folder \"runs\"\n",
        "%load_ext tensorboard\n",
        "%tensorboard --logdir runs"
      ],
      "metadata": {
        "id": "qwJiXyljgul0"
      },
      "execution_count": null,
      "outputs": []
    },
    {
      "cell_type": "code",
      "source": [
        "!python detect.py --weights /content/drive/MyDrive/yolov5/runs/train/exp/weights/best.pt --img 512 --conf 0.2 --source /content/drive/MyDrive/yolov5/Train/video"
      ],
      "metadata": {
        "id": "LPLTdYMBg0jz"
      },
      "execution_count": null,
      "outputs": []
    },
    {
      "cell_type": "code",
      "source": [
        "#display inference on ALL test images\n",
        "\n",
        "import glob\n",
        "from IPython.display import Image, display\n",
        "\n",
        "for imageName in glob.glob('/content/drive/MyDrive/yolov5/runs/detect/exp2/*.jpg')[:10]: #이미지 파일 형식에 맞춰 .png 또는 .jpg 등으로 수정\n",
        "    display(Image(filename=imageName))\n",
        "    print(\"\\n\")"
      ],
      "metadata": {
        "id": "meg9huXng6to"
      },
      "execution_count": null,
      "outputs": []
    }
  ]
}